{
 "cells": [
  {
   "cell_type": "code",
   "execution_count": 2,
   "id": "9e766f73",
   "metadata": {},
   "outputs": [
    {
     "name": "stdout",
     "output_type": "stream",
     "text": [
      "appnope==0.1.2\r\n",
      "argon2-cffi==20.1.0\r\n",
      "async-generator==1.10\r\n",
      "attrs==20.3.0\r\n",
      "backcall==0.2.0\r\n",
      "bleach==3.3.0\r\n",
      "cffi==1.14.5\r\n",
      "cycler==0.10.0\r\n",
      "decorator==5.0.7\r\n",
      "defusedxml==0.7.1\r\n",
      "entrypoints==0.3\r\n",
      "importlib-metadata==4.0.0\r\n",
      "ipykernel==5.5.3\r\n",
      "ipython==7.22.0\r\n",
      "ipython-genutils==0.2.0\r\n",
      "jedi==0.18.0\r\n",
      "Jinja2==2.11.3\r\n",
      "jsonschema==3.2.0\r\n",
      "jupyter-client==6.2.0\r\n",
      "jupyter-core==4.7.1\r\n",
      "jupyterlab-pygments==0.1.2\r\n",
      "kiwisolver==1.3.1\r\n",
      "MarkupSafe==1.1.1\r\n",
      "matplotlib==3.4.1\r\n",
      "mistune==0.8.4\r\n",
      "nbclient==0.5.3\r\n",
      "nbconvert==6.0.7\r\n",
      "nbformat==5.1.3\r\n",
      "nest-asyncio==1.5.1\r\n",
      "notebook==6.3.0\r\n",
      "numpy==1.20.2\r\n",
      "packaging==20.9\r\n",
      "pandas==1.2.4\r\n",
      "pandocfilters==1.4.3\r\n",
      "parso==0.8.2\r\n",
      "pexpect==4.8.0\r\n",
      "pickleshare==0.7.5\r\n",
      "Pillow==8.2.0\r\n",
      "prometheus-client==0.10.1\r\n",
      "prompt-toolkit==3.0.18\r\n",
      "ptyprocess==0.7.0\r\n",
      "pycparser==2.20\r\n",
      "Pygments==2.8.1\r\n",
      "pyparsing==2.4.7\r\n",
      "pyrsistent==0.17.3\r\n",
      "python-dateutil==2.8.1\r\n",
      "pytz==2021.1\r\n",
      "pyzmq==22.0.3\r\n",
      "Send2Trash==1.5.0\r\n",
      "six==1.15.0\r\n",
      "terminado==0.9.4\r\n",
      "testpath==0.4.4\r\n",
      "tornado==6.1\r\n",
      "traitlets==5.0.5\r\n",
      "typing-extensions==3.7.4.3\r\n",
      "wcwidth==0.2.5\r\n",
      "webencodings==0.5.1\r\n",
      "zipp==3.4.1\r\n"
     ]
    }
   ],
   "source": [
    "!pip3 freeze"
   ]
  },
  {
   "cell_type": "code",
   "execution_count": null,
   "id": "6b1dc4dd",
   "metadata": {},
   "outputs": [],
   "source": []
  }
 ],
 "metadata": {
  "kernelspec": {
   "display_name": "Python 3",
   "language": "python",
   "name": "python3"
  },
  "language_info": {
   "codemirror_mode": {
    "name": "ipython",
    "version": 3
   },
   "file_extension": ".py",
   "mimetype": "text/x-python",
   "name": "python",
   "nbconvert_exporter": "python",
   "pygments_lexer": "ipython3",
   "version": "3.7.4"
  }
 },
 "nbformat": 4,
 "nbformat_minor": 5
}
