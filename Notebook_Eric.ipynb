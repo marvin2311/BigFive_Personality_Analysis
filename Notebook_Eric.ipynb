{
 "cells": [
  {
   "cell_type": "code",
   "execution_count": null,
   "id": "6b1dc4dd",
   "metadata": {},
   "outputs": [],
   "source": [
    "#import modules\n",
    "import pandas as pd\n",
    "import matplotlib.pyplot as plt\n",
    "import numpy as np\n",
    "import seaborn as sns\n",
    "\n",
    "#load data\n",
    "data = pd.read_csv(\"data-final.csv\", sep=\"\\t\")\n",
    "data.head(10)"
   ]
  },
  {
   "cell_type": "code",
   "execution_count": null,
   "id": "9fed1098",
   "metadata": {},
   "outputs": [],
   "source": [
    "data.info()"
   ]
  },
  {
   "cell_type": "code",
   "execution_count": null,
   "id": "18491df4",
   "metadata": {},
   "outputs": [],
   "source": [
    "data.describe()"
   ]
  },
  {
   "cell_type": "code",
   "execution_count": null,
   "id": "62ba6de4",
   "metadata": {},
   "outputs": [],
   "source": [
    "len(data)"
   ]
  },
  {
   "cell_type": "code",
   "execution_count": null,
   "id": "972142a3",
   "metadata": {},
   "outputs": [],
   "source": [
    "#count missing values\n",
    "data.isnull().values.sum()"
   ]
  },
  {
   "cell_type": "code",
   "execution_count": null,
   "id": "5297b9e7",
   "metadata": {},
   "outputs": [],
   "source": [
    "#drop rows with missing values\n",
    "\n",
    "df = data.copy()\n",
    "df.dropna(inplace=True)\n",
    "\n",
    "len(df)"
   ]
  },
  {
   "cell_type": "code",
   "execution_count": null,
   "id": "fc8d8f68",
   "metadata": {},
   "outputs": [],
   "source": [
    "df.isnull().values.any()"
   ]
  },
  {
   "cell_type": "code",
   "execution_count": null,
   "id": "2bb2ec05",
   "metadata": {},
   "outputs": [],
   "source": [
    "#plot countries with more than 10.000 participants\n",
    "\n",
    "countries = pd.DataFrame(df['country'].value_counts())\n",
    "countries_10k = countries[countries['country'] >= 10000]\n",
    "\n",
    "sns.barplot(data=countries_10k, x=countries_10k.index, y='country')"
   ]
  },
  {
   "cell_type": "code",
   "execution_count": null,
   "id": "5d5ce9a3",
   "metadata": {},
   "outputs": [],
   "source": [
    "#group questions with column name \n",
    "\n",
    "ext_questions = {'EXT1' : 'I am the life of the party',\n",
    "                 'EXT2' : 'I dont talk a lot',\n",
    "                 'EXT3' : 'I feel comfortable around people',\n",
    "                 'EXT4' : 'I keep in the background',\n",
    "                 'EXT5' : 'I start conversations',\n",
    "                 'EXT6' : 'I have little to say',\n",
    "                 'EXT7' : 'I talk to a lot of different people at parties',\n",
    "                 'EXT8' : 'I dont like to draw attention to myself',\n",
    "                 'EXT9' : 'I dont mind being the center of attention',\n",
    "                 'EXT10': 'I am quiet around strangers'}\n",
    "\n",
    "est_questions = {'EST1' : 'I get stressed out easily',\n",
    "                 'EST2' : 'I am relaxed most of the time',\n",
    "                 'EST3' : 'I worry about things',\n",
    "                 'EST4' : 'I seldom feel blue',\n",
    "                 'EST5' : 'I am easily disturbed',\n",
    "                 'EST6' : 'I get upset easily',\n",
    "                 'EST7' : 'I change my mood a lot',\n",
    "                 'EST8' : 'I have frequent mood swings',\n",
    "                 'EST9' : 'I get irritated easily',\n",
    "                 'EST10': 'I often feel blue'}\n",
    "\n",
    "agr_questions = {'AGR1' : 'I feel little concern for others',\n",
    "                 'AGR2' : 'I am interested in people',\n",
    "                 'AGR3' : 'I insult people',\n",
    "                 'AGR4' : 'I sympathize with others feelings',\n",
    "                 'AGR5' : 'I am not interested in other peoples problems',\n",
    "                 'AGR6' : 'I have a soft heart',\n",
    "                 'AGR7' : 'I am not really interested in others',\n",
    "                 'AGR8' : 'I take time out for others',\n",
    "                 'AGR9' : 'I feel others emotions',\n",
    "                 'AGR10': 'I make people feel at ease'}\n",
    "\n",
    "csn_questions = {'CSN1' : 'I am always prepared',\n",
    "                 'CSN2' : 'I leave my belongings around',\n",
    "                 'CSN3' : 'I pay attention to details',\n",
    "                 'CSN4' : 'I make a mess of things',\n",
    "                 'CSN5' : 'I get chores done right away',\n",
    "                 'CSN6' : 'I often forget to put things back in their proper place',\n",
    "                 'CSN7' : 'I like order',\n",
    "                 'CSN8' : 'I shirk my duties',\n",
    "                 'CSN9' : 'I follow a schedule',\n",
    "                 'CSN10' : 'I am exacting in my work'}\n",
    "\n",
    "opn_questions = {'OPN1' : 'I have a rich vocabulary',\n",
    "                 'OPN2' : 'I have difficulty understanding abstract ideas',\n",
    "                 'OPN3' : 'I have a vivid imagination',\n",
    "                 'OPN4' : 'I am not interested in abstract ideas',\n",
    "                 'OPN5' : 'I have excellent ideas',\n",
    "                 'OPN6' : 'I do not have a good imagination',\n",
    "                 'OPN7' : 'I am quick to understand things',\n",
    "                 'OPN8' : 'I use difficult words',\n",
    "                 'OPN9' : 'I spend time reflecting on things',\n",
    "                 'OPN10': 'I am full of ideas'}"
   ]
  },
  {
   "cell_type": "code",
   "execution_count": null,
   "id": "552d7ed8",
   "metadata": {},
   "outputs": [],
   "source": [
    "#group columns for every type\n",
    "\n",
    "EXT_col = [col for col in data if col.startswith('EXT')]\n",
    "EST_col = [col for col in data if col.startswith('EST')]\n",
    "AGR_col = [col for col in data if col.startswith('AGR')]\n",
    "CSN_col = [col for col in data if col.startswith('CSN')]\n",
    "OPN_col = [col for col in data if col.startswith('OPN')]"
   ]
  },
  {
   "cell_type": "code",
   "execution_count": null,
   "id": "193161bc",
   "metadata": {},
   "outputs": [],
   "source": [
    "#plot answers for extroversion personality\n",
    "\n",
    "plt.figure(figsize=(40,60))\n",
    "for i in range(1, 11):\n",
    "    plt.subplot(10,5,i)\n",
    "    plt.hist(df[EXT_col[i-1]], color=\"red\", bins=20)\n",
    "    plt.title(ext_questions[EXT_col[i-1]], fontsize=20)"
   ]
  },
  {
   "cell_type": "code",
   "execution_count": null,
   "id": "287d42df",
   "metadata": {},
   "outputs": [],
   "source": [
    "#plot answers for neuroticism personality\n",
    "\n",
    "plt.figure(figsize=(40,60))\n",
    "for i in range(1, 11):\n",
    "    plt.subplot(10,5,i)\n",
    "    plt.hist(df[EST_col[i-1]], color=\"blue\", bins=20)\n",
    "    plt.title(est_questions[EST_col[i-1]], fontsize=20)"
   ]
  },
  {
   "cell_type": "code",
   "execution_count": null,
   "id": "10519026",
   "metadata": {},
   "outputs": [],
   "source": [
    "#plot answers for agreeable personality\n",
    "\n",
    "plt.figure(figsize=(40,60))\n",
    "for i in range(1, 11):\n",
    "    plt.subplot(10,5,i)\n",
    "    plt.hist(df[AGR_col[i-1]], color=\"green\", bins=20)\n",
    "    plt.title(agr_questions[AGR_col[i-1]], fontsize=20)"
   ]
  },
  {
   "cell_type": "code",
   "execution_count": null,
   "id": "872fbbb7",
   "metadata": {},
   "outputs": [],
   "source": [
    "#plot answers for conscientious personality\n",
    "\n",
    "plt.figure(figsize=(40,60))\n",
    "for i in range(1, 11):\n",
    "    plt.subplot(10,5,i)\n",
    "    plt.hist(df[CSN_col[i-1]], color=\"orange\", bins=20)\n",
    "    plt.title(csn_questions[CSN_col[i-1]], fontsize=20)"
   ]
  },
  {
   "cell_type": "code",
   "execution_count": null,
   "id": "37e4eaf0",
   "metadata": {},
   "outputs": [],
   "source": [
    "#plot answers for open personality\n",
    "\n",
    "plt.figure(figsize=(40,60))\n",
    "for i in range(1, 11):\n",
    "    plt.subplot(10,5,i)\n",
    "    plt.hist(df[OPN_col[i-1]], color=\"black\", bins=20)\n",
    "    plt.title(opn_questions[OPN_col[i-1]], fontsize=20)"
   ]
  },
  {
   "cell_type": "code",
   "execution_count": null,
   "id": "7fa2e88c",
   "metadata": {},
   "outputs": [],
   "source": [
    "#group positively and negatively keyed questions\n",
    "\n",
    "positiv_questions = ['EXT1', 'EXT3', 'EXT5', 'EXT7', 'EXT9',\n",
    "                    'EST1', 'EST3', 'EST5', 'EST6', 'EST7', \n",
    "                    'EST8', 'EST9', 'EST10',\n",
    "                    'AGR2', 'AGR4', 'AGR6', 'AGR8', 'AGR9', 'AGR10',\n",
    "                    'CSN1', 'CSN3', 'CSN5', 'CSN7', 'CSN9', 'CSN10', \n",
    "                    'OPN1', 'OPN3', 'OPN5', 'OPN7', 'OPN8', 'OPN9', \n",
    "                    'OPN10']\n",
    "\n",
    "negative_questions = ['EXT2', 'EXT4', 'EXT6', 'EXT8', 'EXT10',\n",
    "                    'EST2', 'EST4',\n",
    "                    'AGR1', 'AGR3', 'AGR5', 'AGR7', \n",
    "                    'CSN2', 'CSN4', 'CSN6', 'CSN8', \n",
    "                    'OPN2', 'OPN4', 'OPN6']"
   ]
  },
  {
   "cell_type": "code",
   "execution_count": null,
   "id": "9701e049",
   "metadata": {},
   "outputs": [],
   "source": [
    "#reverse values of negative questions\n",
    "\n",
    "df.loc[:, negative_questions] = 6 - df.loc[:, negative_questions]\n",
    "df.head(10)"
   ]
  },
  {
   "cell_type": "code",
   "execution_count": null,
   "id": "afe8b34c",
   "metadata": {},
   "outputs": [],
   "source": [
    "from sklearn.cluster import KMeans\n",
    "\n",
    "df_model = df[df.columns.tolist()[:50]]\n",
    "\n",
    "kmeans = KMeans(n_clusters=5)\n",
    "km_fitted = kmeans.fit(df_model)"
   ]
  },
  {
   "cell_type": "code",
   "execution_count": null,
   "id": "ad9664c3",
   "metadata": {},
   "outputs": [],
   "source": [
    "df_model.loc[:, 'Cluster'] = km_fitted.labels_\n",
    "df_model.head(10)"
   ]
  },
  {
   "cell_type": "code",
   "execution_count": null,
   "id": "8f9bad75",
   "metadata": {},
   "outputs": [],
   "source": [
    "df_model.Cluster.value_counts()"
   ]
  },
  {
   "cell_type": "code",
   "execution_count": null,
   "id": "306dea71",
   "metadata": {},
   "outputs": [],
   "source": []
  }
 ],
 "metadata": {
  "kernelspec": {
   "display_name": "Python 3",
   "language": "python",
   "name": "python3"
  },
  "language_info": {
   "codemirror_mode": {
    "name": "ipython",
    "version": 3
   },
   "file_extension": ".py",
   "mimetype": "text/x-python",
   "name": "python",
   "nbconvert_exporter": "python",
   "pygments_lexer": "ipython3",
   "version": "3.7.4"
  }
 },
 "nbformat": 4,
 "nbformat_minor": 5
}
